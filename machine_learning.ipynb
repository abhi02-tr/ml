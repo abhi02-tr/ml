{
 "cells": [
  {
   "cell_type": "markdown",
   "id": "c2493a9a",
   "metadata": {},
   "source": [
    "# machine learning"
   ]
  },
  {
   "cell_type": "markdown",
   "id": "e1317015",
   "metadata": {},
   "source": [
    "## naive-bayes"
   ]
  },
  {
   "cell_type": "code",
   "execution_count": 1,
   "id": "75fab6fe",
   "metadata": {},
   "outputs": [],
   "source": [
    "import numpy as np\n",
    "import matplotlib.pyplot as plt\n",
    "from sklearn import preprocessing\n",
    "from sklearn.naive_bayes import GaussianNB"
   ]
  },
  {
   "cell_type": "code",
   "execution_count": 2,
   "id": "216c37bc",
   "metadata": {},
   "outputs": [],
   "source": [
    "weather = ['sunny', 'sunny', 'overcast', 'rainy', 'rainy', 'rainy', 'rainy', 'overcast']\n",
    "humidity = ['high', 'low', 'medium', 'high', 'low', 'low', 'high', 'medium']\n",
    "batfirst = ['no', 'yes', 'no', 'no', 'yes', 'yes', 'no', 'no']"
   ]
  },
  {
   "cell_type": "code",
   "execution_count": 3,
   "id": "19497e85",
   "metadata": {},
   "outputs": [
    {
     "name": "stdout",
     "output_type": "stream",
     "text": [
      "[2 2 0 1 1 1 1 0] [0 1 2 0 1 1 0 2] [0 1 0 0 1 1 0 0]\n"
     ]
    }
   ],
   "source": [
    "le = preprocessing.LabelEncoder()\n",
    "\n",
    "weather_encoded = le.fit_transform(weather)\n",
    "hum_encoded = le.fit_transform(humidity)\n",
    "label = le.fit_transform(batfirst)\n",
    "\n",
    "print(weather_encoded,hum_encoded,label)"
   ]
  },
  {
   "cell_type": "code",
   "execution_count": 4,
   "id": "25132050",
   "metadata": {},
   "outputs": [],
   "source": [
    "features = list(zip(weather_encoded, hum_encoded))"
   ]
  },
  {
   "cell_type": "code",
   "execution_count": 5,
   "id": "63c152ba",
   "metadata": {},
   "outputs": [
    {
     "data": {
      "text/plain": [
       "GaussianNB()"
      ]
     },
     "execution_count": 5,
     "metadata": {},
     "output_type": "execute_result"
    }
   ],
   "source": [
    "model= GaussianNB()\n",
    "model.fit(features, label)"
   ]
  },
  {
   "cell_type": "code",
   "execution_count": 6,
   "id": "6b2cd08c",
   "metadata": {},
   "outputs": [
    {
     "name": "stdout",
     "output_type": "stream",
     "text": [
      "1 0\n"
     ]
    }
   ],
   "source": [
    "w,h = map(int, input().split())"
   ]
  },
  {
   "cell_type": "code",
   "execution_count": 7,
   "id": "d5d3ac7b",
   "metadata": {},
   "outputs": [
    {
     "name": "stdout",
     "output_type": "stream",
     "text": [
      "[0]\n"
     ]
    }
   ],
   "source": [
    "predicted = model.predict([[w,h]])\n",
    "print(predicted)"
   ]
  },
  {
   "cell_type": "code",
   "execution_count": null,
   "id": "cfa330d7",
   "metadata": {},
   "outputs": [],
   "source": []
  }
 ],
 "metadata": {
  "kernelspec": {
   "display_name": "Python 3 (ipykernel)",
   "language": "python",
   "name": "python3"
  },
  "language_info": {
   "codemirror_mode": {
    "name": "ipython",
    "version": 3
   },
   "file_extension": ".py",
   "mimetype": "text/x-python",
   "name": "python",
   "nbconvert_exporter": "python",
   "pygments_lexer": "ipython3",
   "version": "3.9.12"
  }
 },
 "nbformat": 4,
 "nbformat_minor": 5
}
