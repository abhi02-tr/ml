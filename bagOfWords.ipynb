{
 "cells": [
  {
   "cell_type": "markdown",
   "id": "d5ad6cf6",
   "metadata": {},
   "source": [
    "# bag of words"
   ]
  },
  {
   "cell_type": "code",
   "execution_count": 2,
   "id": "e8524fce",
   "metadata": {},
   "outputs": [],
   "source": [
    "import pandas as pd\n",
    "from sklearn.feature_extraction.text import TfidfVectorizer"
   ]
  },
  {
   "cell_type": "code",
   "execution_count": 3,
   "id": "e4feba21",
   "metadata": {},
   "outputs": [],
   "source": [
    "documentA = 'the man walk out for a walk'\n",
    "documentB = 'the children sat around the fire'"
   ]
  },
  {
   "cell_type": "code",
   "execution_count": 4,
   "id": "7fa7a730",
   "metadata": {},
   "outputs": [],
   "source": [
    "bagOfWordsA = documentA.split(' ')\n",
    "bagOfWordsB = documentB.split(' ')"
   ]
  },
  {
   "cell_type": "code",
   "execution_count": 5,
   "id": "1cc37372",
   "metadata": {},
   "outputs": [],
   "source": [
    "uniqueWords = set(bagOfWordsA).union(bagOfWordsB)"
   ]
  },
  {
   "cell_type": "code",
   "execution_count": 8,
   "id": "c49c9009",
   "metadata": {},
   "outputs": [
    {
     "name": "stdout",
     "output_type": "stream",
     "text": [
      "   out  man  a  walk  sat  for  the  children  fire  around\n",
      "0    1    1  1     2    0    1    1         0     0       0\n",
      "1    0    0  0     0    1    0    2         1     1       1\n"
     ]
    }
   ],
   "source": [
    "numOfWordsA = dict.fromkeys(uniqueWords, 0)\n",
    "\n",
    "for word in bagOfWordsA:\n",
    "    numOfWordsA[word] += 1\n",
    "\n",
    "numOfWordsB = dict.fromkeys(uniqueWords, 0)\n",
    "for word in bagOfWordsB:\n",
    "    numOfWordsB[word] += 1\n",
    "\n",
    "df = pd.DataFrame([numOfWordsA, numOfWordsB])\n",
    "print(df)"
   ]
  },
  {
   "cell_type": "markdown",
   "id": "a1fab7c1",
   "metadata": {},
   "source": [
    "## term frequency"
   ]
  },
  {
   "cell_type": "code",
   "execution_count": 12,
   "id": "ff820672",
   "metadata": {},
   "outputs": [],
   "source": [
    "def computeTf(wDict, bagOfWords):\n",
    "    tfDict = {}\n",
    "    bagOfWordsCount = len(bagOfWords)\n",
    "    for word, count in wDict.items():\n",
    "        tfDict[word] = count / float(bagOfWordsCount)\n",
    "    return tfDict"
   ]
  },
  {
   "cell_type": "code",
   "execution_count": 13,
   "id": "23de2c88",
   "metadata": {},
   "outputs": [],
   "source": [
    "tfA = computeTf(numOfWordsA, bagOfWordsA)\n",
    "tfB = computeTf(numOfWordsB, bagOfWordsB)"
   ]
  },
  {
   "cell_type": "markdown",
   "id": "1ead0c0a",
   "metadata": {},
   "source": [
    "## Inverse Data Frequency"
   ]
  },
  {
   "cell_type": "code",
   "execution_count": 14,
   "id": "91e8d057",
   "metadata": {},
   "outputs": [],
   "source": [
    "def computeIDF(documents):\n",
    "    import math\n",
    "    N = len(documents)\n",
    "    \n",
    "    idfDict = dict.fromkeys(documents[0].keys(), 0)\n",
    "    for document in documents:\n",
    "        for word, val in document.items():\n",
    "            if val > 0:\n",
    "                idfDict[word] += 1\n",
    "    \n",
    "    for word, val in idfDict.items():\n",
    "        idfDict[word] = math.log(N / float(val))\n",
    "    return idfDict"
   ]
  },
  {
   "cell_type": "code",
   "execution_count": 15,
   "id": "d512dcfa",
   "metadata": {},
   "outputs": [
    {
     "name": "stdout",
     "output_type": "stream",
     "text": [
      "        out       man         a      walk       sat       for  the  children  \\\n",
      "0  0.693147  0.693147  0.693147  0.693147  0.693147  0.693147  0.0  0.693147   \n",
      "\n",
      "       fire    around  \n",
      "0  0.693147  0.693147  \n"
     ]
    }
   ],
   "source": [
    "# The IDF is computed once for all documents\n",
    "\n",
    "idfs = computeIDF([numOfWordsA, numOfWordsB])\n",
    "df = pd.DataFrame([idfs])\n",
    "\n",
    "print(df)"
   ]
  },
  {
   "cell_type": "code",
   "execution_count": 16,
   "id": "a12af42e",
   "metadata": {},
   "outputs": [],
   "source": [
    "# The TF-IDF is simply the TF multiplied by IDF\n",
    "\n",
    "def computeTFIDF(tfBagOfWords, idfs):\n",
    "    tfidf = {}\n",
    "    for word, val in tfBagOfWords.items():\n",
    "        tfidf[word] = val * idfs[word]\n",
    "    return tfidf"
   ]
  },
  {
   "cell_type": "code",
   "execution_count": 17,
   "id": "1dca024d",
   "metadata": {},
   "outputs": [
    {
     "name": "stdout",
     "output_type": "stream",
     "text": [
      "        out       man         a      walk       sat       for  the  children  \\\n",
      "0  0.099021  0.099021  0.099021  0.198042  0.000000  0.099021  0.0  0.000000   \n",
      "1  0.000000  0.000000  0.000000  0.000000  0.115525  0.000000  0.0  0.115525   \n",
      "\n",
      "       fire    around  \n",
      "0  0.000000  0.000000  \n",
      "1  0.115525  0.115525  \n"
     ]
    }
   ],
   "source": [
    "# compute the TF-IDF scores for all the words in the corpus\n",
    "\n",
    "tfidfA = computeTFIDF(tfA, idfs)\n",
    "tfidfB = computeTFIDF(tfB, idfs)\n",
    "df = pd.DataFrame([tfidfA, tfidfB])\n",
    "\n",
    "print(df)"
   ]
  },
  {
   "cell_type": "code",
   "execution_count": null,
   "id": "95f8c49f",
   "metadata": {},
   "outputs": [],
   "source": []
  }
 ],
 "metadata": {
  "kernelspec": {
   "display_name": "Python 3 (ipykernel)",
   "language": "python",
   "name": "python3"
  },
  "language_info": {
   "codemirror_mode": {
    "name": "ipython",
    "version": 3
   },
   "file_extension": ".py",
   "mimetype": "text/x-python",
   "name": "python",
   "nbconvert_exporter": "python",
   "pygments_lexer": "ipython3",
   "version": "3.9.12"
  }
 },
 "nbformat": 4,
 "nbformat_minor": 5
}
